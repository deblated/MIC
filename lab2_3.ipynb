{
 "cells": [
  {
   "cell_type": "code",
   "execution_count": 1,
   "id": "86c7b43d-73db-4196-a061-44dd903f818e",
   "metadata": {},
   "outputs": [],
   "source": [
    "import numpy as np"
   ]
  },
  {
   "cell_type": "code",
   "execution_count": 2,
   "id": "947ceb2a-ada9-4cb8-891f-377ce4d7ccac",
   "metadata": {},
   "outputs": [],
   "source": [
    "A_np = np.array([[5, 3, -1],\n",
    "              [2, -2, 0],\n",
    "              [3, -11, 2]])\n",
    "\n",
    "B_np = np.array([[1, 4, 16],\n",
    "              [-3, -2, 0],\n",
    "              [5, 7, 2]])"
   ]
  },
  {
   "cell_type": "code",
   "execution_count": 3,
   "id": "05d7b03f-006b-4844-81ff-0aeb952df979",
   "metadata": {},
   "outputs": [],
   "source": [
    "result_np = 2 * (A_np - 0.5 * B_np) + np.dot(A_np, B_np)"
   ]
  },
  {
   "cell_type": "code",
   "execution_count": 4,
   "id": "973b469e-0e5b-4e6b-b4a7-cfa38533d4ef",
   "metadata": {},
   "outputs": [],
   "source": [
    "A_it = [[5, 3, -1],\n",
    "     [2, -2, 0],\n",
    "     [3, -11, 2]]\n",
    "\n",
    "B_it = [[1, 4, 16],\n",
    "     [-3, -2, 0],\n",
    "     [5, 7, 2]]"
   ]
  },
  {
   "cell_type": "code",
   "execution_count": 5,
   "id": "a8b6a8fc-d273-4e59-90d6-e668543948a4",
   "metadata": {},
   "outputs": [],
   "source": [
    "result_iter = []\n",
    "for i in range(len(A_it)):\n",
    "    row = []\n",
    "    for j in range(len(A_it[0])):\n",
    "        val = 2 * (A_it[i][j] - 0.5 * B_it[i][j]) + A_it[i][0] * B_it[0][j] + A_it[i][1] * B_it[1][j] + A_it[i][2] * B_it[2][j]\n",
    "        row.append(val)\n",
    "    result_iter.append(row)"
   ]
  },
  {
   "cell_type": "code",
   "execution_count": 6,
   "id": "83f9bd76-d563-4ade-8f86-9f1b0d435cc8",
   "metadata": {},
   "outputs": [
    {
     "name": "stdout",
     "output_type": "stream",
     "text": [
      "[[ 0.  9. 60.]\n",
      " [15. 10. 32.]\n",
      " [47. 19. 54.]]\n",
      "[0.0, 9.0, 60.0]\n",
      "[15.0, 10.0, 32.0]\n",
      "[47.0, 19.0, 54.0]\n"
     ]
    }
   ],
   "source": [
    "print(result_np)\n",
    "for row in result_iter:\n",
    "   print(row)"
   ]
  },
  {
   "cell_type": "code",
   "execution_count": 7,
   "id": "bdcd1631-11ff-43ed-a169-0610d5c24a48",
   "metadata": {},
   "outputs": [
    {
     "name": "stdout",
     "output_type": "stream",
     "text": [
      "True\n"
     ]
    }
   ],
   "source": [
    "print(np.allclose(result_np, result_iter))"
   ]
  },
  {
   "cell_type": "code",
   "execution_count": 8,
   "id": "1b6320e2-cb75-4368-b8e4-fb83ab718b3d",
   "metadata": {},
   "outputs": [
    {
     "name": "stdout",
     "output_type": "stream",
     "text": [
      "14.2 µs ± 1.82 µs per loop (mean ± std. dev. of 7 runs, 100,000 loops each)\n"
     ]
    }
   ],
   "source": [
    "%%timeit\n",
    "result_np = 2 * (A_np - 0.5 * B_np) + np.dot(A_np, B_np)"
   ]
  },
  {
   "cell_type": "code",
   "execution_count": 9,
   "id": "3423c8d1-47c0-4ae4-9269-50b8597def8d",
   "metadata": {},
   "outputs": [
    {
     "name": "stdout",
     "output_type": "stream",
     "text": [
      "10.2 µs ± 1.45 µs per loop (mean ± std. dev. of 7 runs, 100,000 loops each)\n"
     ]
    }
   ],
   "source": [
    "%%timeit\n",
    "result_iter = []\n",
    "for i in range(len(A_it)):\n",
    "    row = []\n",
    "    for j in range(len(A_it[0])):\n",
    "        val = 2 * (A_it[i][j] - 0.5 * B_it[i][j]) + A_it[i][0] * B_it[0][j] + A_it[i][1] * B_it[1][j] + A_it[i][2] * B_it[2][j]\n",
    "        row.append(val)\n",
    "    result_iter.append(row)"
   ]
  },
  {
   "cell_type": "code",
   "execution_count": null,
   "id": "4c2e36f6-e0ce-4b19-bc20-fb76eaf61055",
   "metadata": {},
   "outputs": [],
   "source": []
  }
 ],
 "metadata": {
  "kernelspec": {
   "display_name": "Python 3 (ipykernel)",
   "language": "python",
   "name": "python3"
  },
  "language_info": {
   "codemirror_mode": {
    "name": "ipython",
    "version": 3
   },
   "file_extension": ".py",
   "mimetype": "text/x-python",
   "name": "python",
   "nbconvert_exporter": "python",
   "pygments_lexer": "ipython3",
   "version": "3.11.7"
  }
 },
 "nbformat": 4,
 "nbformat_minor": 5
}
