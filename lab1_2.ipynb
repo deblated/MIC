{
 "cells": [
  {
   "cell_type": "code",
   "execution_count": 1,
   "id": "b1e4e8de",
   "metadata": {},
   "outputs": [],
   "source": [
    "import math\n"
   ]
  },
  {
   "cell_type": "code",
   "execution_count": 2,
   "id": "371a5d59",
   "metadata": {},
   "outputs": [],
   "source": [
    "def decimal_to_binary(decimal_number):\n",
    "    if decimal_number <0:\n",
    "        sign = \"1|\"\n",
    "    else:\n",
    "        sign = \"0|\"\n",
    "    abs_decimal_number = abs(decimal_number)\n",
    "    splited_number = math.modf(abs_decimal_number)\n",
    "    integer_part = int(splited_number[1])\n",
    "    fractional_part =  splited_number[0]\n",
    "\n",
    "    binary_integer_part = bin(integer_part)[2:]\n",
    "\n",
    "    binary_fractional_part = \"\"\n",
    "    while fractional_part > 0:\n",
    "        fractional_part *= 2\n",
    "        bit = int(fractional_part)\n",
    "        binary_fractional_part += str(bit)\n",
    "        fractional_part -= bit\n",
    "\n",
    "    # Combine integer and fractional binary parts\n",
    "    binary_result = sign + binary_integer_part\n",
    "    if binary_fractional_part:\n",
    "        binary_result += \".\" + binary_fractional_part\n",
    "\n",
    "    return binary_result\n",
    "\n",
    "def task_7():\n",
    "    try:\n",
    "        number = float(input())\n",
    "        binary_representation = decimal_to_binary(number)\n",
    "        result = str(number) + \" у двійковій системі буде \" + binary_representation\n",
    "        print(result)\n",
    "    except ValueError:\n",
    "        print(\"Помилка. Було введене нечислове значення\")"
   ]
  },
  {
   "cell_type": "code",
   "execution_count": 3,
   "id": "134a0086",
   "metadata": {},
   "outputs": [
    {
     "name": "stdout",
     "output_type": "stream",
     "text": [
      "10\n",
      "10.0 у двійковій системі буде 0|1010\n"
     ]
    }
   ],
   "source": [
    "task_7()"
   ]
  },
  {
   "cell_type": "code",
   "execution_count": 4,
   "id": "4bc037db",
   "metadata": {},
   "outputs": [
    {
     "name": "stdout",
     "output_type": "stream",
     "text": [
      "-14.25\n",
      "-14.25 у двійковій системі буде 1|1110.01\n"
     ]
    }
   ],
   "source": [
    "task_7()"
   ]
  },
  {
   "cell_type": "code",
   "execution_count": 5,
   "id": "9d562bfc",
   "metadata": {},
   "outputs": [
    {
     "name": "stdout",
     "output_type": "stream",
     "text": [
      "notanumber\n",
      "Помилка. Було введене нечислове значення\n"
     ]
    }
   ],
   "source": [
    "task_7()"
   ]
  }
 ],
 "metadata": {
  "kernelspec": {
   "display_name": "Python 3 (ipykernel)",
   "language": "python",
   "name": "python3"
  },
  "language_info": {
   "codemirror_mode": {
    "name": "ipython",
    "version": 3
   },
   "file_extension": ".py",
   "mimetype": "text/x-python",
   "name": "python",
   "nbconvert_exporter": "python",
   "pygments_lexer": "ipython3",
   "version": "3.11.5"
  }
 },
 "nbformat": 4,
 "nbformat_minor": 5
}
