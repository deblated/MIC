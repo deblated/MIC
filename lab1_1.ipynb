{
 "cells": [
  {
   "cell_type": "code",
   "execution_count": 2,
   "id": "93ee011b",
   "metadata": {},
   "outputs": [
    {
     "data": {
      "text/html": [
       "\n",
       "<style>\n",
       "td,th,ul,li {\n",
       "  font-size: 14px\n",
       "}\n",
       "</style>\n",
       "\n",
       "<svg width=\"1200\" height=\"600\">\n",
       "    <rect width=\"1200\" height=\"600\" fill=\"#005cbf\"/>\n",
       "    <rect x=\"300\" y=\"0\" width=\"151\" height=\"600\" fill=\"#ffffff\"/>\n",
       "    <rect x=\"0\" y=\"151\" width=\"1200\" height=\"151\" fill=\"#ffffff\"/>\n",
       "    <rect x=\"338\" y=\"0\" width=\"75\" height=\"600\" fill=\"#d72828\"/>\n",
       "    <rect x=\"0\" y=\"189\" width=\"1200\" height=\"75\" fill=\"#d72828\"/>\n",
       "</svg>\n"
      ],
      "text/plain": [
       "<IPython.core.display.HTML object>"
      ]
     },
     "metadata": {},
     "output_type": "display_data"
    }
   ],
   "source": [
    "%%HTML\n",
    "\n",
    "<style>\n",
    "td,th,ul,li {\n",
    "  font-size: 14px\n",
    "}\n",
    "</style>\n",
    "\n",
    "<svg width=\"1200\" height=\"600\">\n",
    "    <rect width=\"1200\" height=\"600\" fill=\"#005cbf\"/>\n",
    "    <rect x=\"300\" y=\"0\" width=\"151\" height=\"600\" fill=\"#ffffff\"/>\n",
    "    <rect x=\"0\" y=\"151\" width=\"1200\" height=\"151\" fill=\"#ffffff\"/>\n",
    "    <rect x=\"338\" y=\"0\" width=\"75\" height=\"600\" fill=\"#d72828\"/>\n",
    "    <rect x=\"0\" y=\"189\" width=\"1200\" height=\"75\" fill=\"#d72828\"/>\n",
    "</svg>"
   ]
  },
  {
   "attachments": {
    "iceland.webp": {
     "image/webp": "[encoded data removed]"
    }
   },
   "cell_type": "markdown",
   "id": "3a1989a7",
   "metadata": {},
   "source": [
    "# Ісландія\n",
    "\n",
    "![iceland.webp](attachment:iceland.webp)\n",
    "\n",
    "### <i>Основна інформація</i>\n",
    ">Ісландія, раніше Ісляндія (ісл. <i>Ísland</i> <font color='blue'>[ˈistlant]</font>) — нордична острівна держава в <b>Європі</b>, розташована у північній частині <a href=\"https://uk.wikipedia.org/wiki/%D0%90%D1%82%D0%BB%D0%B0%D0%BD%D1%82%D0%B8%D1%87%D0%BD%D0%B8%D0%B9_%D0%BE%D0%BA%D0%B5%D0%B0%D0%BD\" >Атлантичного океану</a> на Серединно-Атлантичному хребті, з населенням близько <b>364 000</b> і площею <b>103 тис. км²</b>. Столиця і найбільше місто — <a href=\"https://uk.wikipedia.org/wiki/%D0%A0%D0%B5%D0%B9%D0%BA%27%D1%8F%D0%B2%D1%96%D0%BA\">Рейк'явік</a>, де, разом із прилеглими районами у південно-західному регіоні країни, проживає близько двох третин населення країни. Ісландія є <b>вулканічно і геологічно активною територією</b>. Її поверхня в основному складається з <b>плато, покритих піщаними полями, горами та льодовиками</b>, хоча багато льодовикових річок течуть до моря через низовини. Ісландія, зігріта <a href=\"https://uk.wikipedia.org/wiki/%D0%93%D0%BE%D0%BB%D1%8C%D1%84%D1%81%D1%82%D1%80%D0%B8%D0%BC\">Гольфстримом</a>, має <b>помірний клімат</b>, незважаючи на високі широти і безпосередню близькість до Полярного кола.\n",
    "\n",
    "| Характеристика  | Значення                  |\n",
    "| :- | :- |\n",
    "| Столиця         | Рейк'явік                 |\n",
    "| Мова            | Ісландська мова           | \n",
    "| Форма правління | Парламентська республіка  | \n",
    "| Незалежність    | 17 червня 1944            | \n",
    "| Площина         | 103,000 км²               | \n",
    "| Населення       | 325 671 (1 січня 2014)    |\n",
    "| ВВП             | \\\\$10,26 млрд (\\\\$34 600) | \n",
    "| Валюта          | Ісландська крона          |\n",
    "\n",
    "### <i>Видатні діячі</i>\n",
    "\n",
    "<ul>\n",
    "  <li>Політика\n",
    "    <ul>\n",
    "      <li>Гвюдні Йоуганнессон - президент</li>\n",
    "      <li>Катрин Якобсдоттір - прем'єр-міністр</li>\n",
    "    </ul>\n",
    "  </li>\n",
    "  <li>Література\n",
    "    <ul>\n",
    "      <li>Йонас Гатльґрімссон - письменник</li>\n",
    "      <li>Гатльдор Лакснесс - поет</li>\n",
    "    </ul>\n",
    "  </li>\n",
    "  <li>Музика\n",
    "    <ul>\n",
    "      <li>Свейнб'єрн Свейнб'єрнссон - композитор</li>\n",
    "      <li>Йон Лейфс - композитор</li>\n",
    "    </ul>\n",
    "  </li>\n",
    "  <li>Спорт\n",
    "    <ul>\n",
    "      <li>Маґнус Вер Маґнуссон - паверліфтер</li>\n",
    "      <li>Ейдур Ґудьйонсен - футболіст</li>\n",
    "    </ul>\n",
    "  </li>\n",
    "</ul>\n",
    "\n",
    "### <i>Пам'ятки культури та природи</i>\n",
    "\n",
    "#### Долина гейзерів Хейдакалюр\n",
    "\n",
    "<img src=\"http://ogotour.com.ua/wp-content/uploads/sites/144/2021/02/Strokkur-Geysir.jpg\" width =\"1600\" height=900 ></img>\n",
    "\n",
    "#### Льодяна печера Скафтафетль\n",
    "\n",
    "<img src=\"http://ogotour.com.ua/wp-content/uploads/sites/144/2021/02/Skaftafell-Ice-Cave.jpg\" width =\"1600\" height=900 ></img>\n",
    "\n",
    "#### Блакитна лагуна в Гріндавіку\n",
    "\n",
    "<img src=\"http://ogotour.com.ua/wp-content/uploads/sites/144/2021/02/Blue-Lagoone.jpg\" width =\"1600\" height=900 ></img>\n",
    "\n",
    "#### Кратер вулкана Крафла\n",
    "\n",
    "<img src=\"http://ogotour.com.ua/wp-content/uploads/sites/144/2021/02/krafla.jpg\" width =\"1600\" height=900 ></img>\n",
    "\n",
    "#### Арктичний Хендж (Arctic Henge)\n",
    "\n",
    "<img src=\"https://res.cloudinary.com/itb-database/image/upload/s--5gNM_ZOt--/c_fill,dpr_auto,f_auto,q_auto:eco,w_1280/v1/Places/fc4025db01ba3c64e113dbc27565b7e1\" width =\"1600\" height=900 ></img>\n",
    "\n",
    "#### Хадльгрімскіркья\n",
    "\n",
    "<img src=\"https://budtex.com.ua/images/samoe/hallgrmskirkja2.jpg\" width =\"1600\" height=900 ></img>\n",
    "\n",
    "#### Арбаеярсафн\n",
    "\n",
    "<img src=\"https://sights.com.ua/wp-content/uploads/35-glavnyh-dostoprimechatelnostej-islandii-bba8535.jpg\" width =\"1600\" height=900 ></img>\n",
    "\n",
    "#### Концертний зал «Харпа» (Рейк’явік)\n",
    "\n",
    "<img src=\"https://sights.com.ua/wp-content/uploads/35-glavnyh-dostoprimechatelnostej-islandii-15e380c.jpg\" width =\"1600\" height=900 ></img>\n",
    "\n",
    "#### Скульптура «Sun Voyager» (Рейк’явік)\n",
    "\n",
    "<img src=\"https://sights.com.ua/wp-content/uploads/x35-glavnyh-dostoprimechatelnostej-islandii-b346812.jpg.pagespeed.ic.bhG0lLgp7b.webp\" width =\"1600\" height=900 ></img>\n",
    "\n",
    "#### Пам’ятник Лейфу Ерікссону (Рейк’явік)\n",
    "\n",
    "<img src=\"https://sights.com.ua/wp-content/uploads/x35-glavnyh-dostoprimechatelnostej-islandii-9a3c2f2.jpg.pagespeed.ic.4n1Oww7y0i.webp\" width =\"1600\" height=900 ></img>"
   ]
  },
  {
   "cell_type": "code",
   "execution_count": null,
   "id": "bb102434",
   "metadata": {},
   "outputs": [],
   "source": []
  }
 ],
 "metadata": {
  "kernelspec": {
   "display_name": "Python 3 (ipykernel)",
   "language": "python",
   "name": "python3"
  },
  "language_info": {
   "codemirror_mode": {
    "name": "ipython",
    "version": 3
   },
   "file_extension": ".py",
   "mimetype": "text/x-python",
   "name": "python",
   "nbconvert_exporter": "python",
   "pygments_lexer": "ipython3",
   "version": "3.11.5"
  }
 },
 "nbformat": 4,
 "nbformat_minor": 5
}
