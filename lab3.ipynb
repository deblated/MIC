{
 "cells": [
  {
   "cell_type": "code",
   "execution_count": 1,
   "id": "710c7579-b6ef-43ff-9680-31105e795569",
   "metadata": {},
   "outputs": [],
   "source": [
    "#3, 4, 5, 8, 9, 11, 12, 13, 14, 16, 17, 18, 19, 20, 22, 23, 24, 27\n",
    "import pandas as pd\n",
    "import matplotlib.pyplot as plt\n",
    "\n",
    "\n",
    "file_path = 'NationalNames.csv'\n",
    "\n",
    "df = pd.read_csv(file_path)"
   ]
  },
  {
   "cell_type": "code",
   "execution_count": 2,
   "id": "27feaaf8-e6a8-4e50-8c70-12dfa4d72d7f",
   "metadata": {},
   "outputs": [
    {
     "name": "stdout",
     "output_type": "stream",
     "text": [
      "Index(['Id', 'Name', 'Year', 'Gender', 'Count'], dtype='object')\n"
     ]
    }
   ],
   "source": [
    "print(df.columns)"
   ]
  },
  {
   "cell_type": "code",
   "execution_count": 3,
   "id": "9dc91a21-fd3a-4e3f-8362-c959e9f68a42",
   "metadata": {},
   "outputs": [
    {
     "name": "stdout",
     "output_type": "stream",
     "text": [
      "                 Id          Year         Count\n",
      "count  1.825433e+06  1.825433e+06  1.825433e+06\n",
      "mean   9.127170e+05  1.972620e+03  1.846879e+02\n",
      "std    5.269573e+05  3.352891e+01  1.566711e+03\n",
      "min    1.000000e+00  1.880000e+03  5.000000e+00\n",
      "25%    4.563590e+05  1.949000e+03  7.000000e+00\n",
      "50%    9.127170e+05  1.982000e+03  1.200000e+01\n",
      "75%    1.369075e+06  2.001000e+03  3.200000e+01\n",
      "max    1.825433e+06  2.014000e+03  9.968000e+04\n"
     ]
    }
   ],
   "source": [
    "print(df.describe())"
   ]
  },
  {
   "cell_type": "code",
   "execution_count": 4,
   "id": "c80de343-e6b9-4b31-aaf3-37e1513816f7",
   "metadata": {},
   "outputs": [
    {
     "name": "stdout",
     "output_type": "stream",
     "text": [
      "93889\n"
     ]
    }
   ],
   "source": [
    "print(df['Name'].nunique())"
   ]
  },
  {
   "cell_type": "code",
   "execution_count": 5,
   "id": "6459e034-0e67-496e-993a-db81b1a7d592",
   "metadata": {},
   "outputs": [
    {
     "name": "stdout",
     "output_type": "stream",
     "text": [
      "The name is ' Linda ' in 1947\n"
     ]
    }
   ],
   "source": [
    "most_popular_name_by_year = df.groupby('Year').apply(lambda x: x.loc[x['Count'].idxmax()])\n",
    "overall_most_popular_name_data = most_popular_name_by_year.loc[most_popular_name_by_year['Count'].idxmax()]\n",
    "print(\"The name is '\", overall_most_popular_name_data['Name'], \"' in\", overall_most_popular_name_data.name)"
   ]
  },
  {
   "cell_type": "code",
   "execution_count": 6,
   "id": "4e73a66d-2dce-4977-a6f2-65ffa28330ab",
   "metadata": {},
   "outputs": [
    {
     "name": "stdout",
     "output_type": "stream",
     "text": [
      "254615\n"
     ]
    }
   ],
   "source": [
    "min_count = df['Count'].min()\n",
    "min_count_records_count = (df['Count'] == min_count).sum()\n",
    "print(min_count_records_count)"
   ]
  },
  {
   "cell_type": "code",
   "execution_count": 20,
   "id": "e5433d82-26f6-4e3e-9ab3-e5324122a2fb",
   "metadata": {},
   "outputs": [
    {
     "name": "stdout",
     "output_type": "stream",
     "text": [
      "2008\n",
      "   Year   Name\n",
      "0  2008  32488\n"
     ]
    }
   ],
   "source": [
    "unique_names_by_year = df.groupby('Year')['Name'].nunique()\n",
    "year_with_most_unique_names = unique_names_by_year.idxmax()\n",
    "count_of_unique_names = unique_names_by_year.max()\n",
    "result_df = pd.DataFrame({'Year': [year_with_most_unique_names], 'Name': [count_of_unique_names]})\n",
    "print(result_df)"
   ]
  },
  {
   "cell_type": "code",
   "execution_count": 21,
   "id": "dcb9f966-b7cd-4ab8-9ede-8c2d67911019",
   "metadata": {},
   "outputs": [
    {
     "name": "stdout",
     "output_type": "stream",
     "text": [
      "'Jacob'\n"
     ]
    }
   ],
   "source": [
    "data_for_most_unique_names_year = df[df['Year'] == 2008]\n",
    "most_popular_name_in_year_with_most_unique_names = data_for_most_unique_names_year.loc[data_for_most_unique_names_year['Count'].idxmax(), 'Name']\n",
    "print(\"'\" + most_popular_name_in_year_with_most_unique_names + \"'\")"
   ]
  },
  {
   "cell_type": "code",
   "execution_count": 9,
   "id": "d4344d42-c06f-41cb-81d4-bdfbe3652251",
   "metadata": {},
   "outputs": [
    {
     "name": "stdout",
     "output_type": "stream",
     "text": [
      "              Id   Name  Year Gender  Count\n",
      "1455556  1455557  Jacob  2004      F    171\n"
     ]
    }
   ],
   "source": [
    "female_jacob_data = df[(df['Name'] == 'Jacob') & (df['Gender'] == 'F')]\n",
    "female_jacob_count_by_year = female_jacob_data.groupby('Year')['Count'].sum()\n",
    "year_with_most_female_jacob = female_jacob_count_by_year.idxmax()\n",
    "print(df[(df['Name'] == 'Jacob') & (df['Gender'] == 'F') & (df['Year'] == year_with_most_female_jacob)])"
   ]
  },
  {
   "cell_type": "code",
   "execution_count": 10,
   "id": "f8e80e9e-ba84-4275-be1f-f0640686e191",
   "metadata": {},
   "outputs": [
    {
     "name": "stdout",
     "output_type": "stream",
     "text": [
      "Year     2008\n",
      "Count    2557\n",
      "Name: 128, dtype: int64\n"
     ]
    }
   ],
   "source": [
    "gender_neutral_names_by_year = df.groupby('Year').apply(lambda x: len(set(x[x['Gender'] == 'M']['Name']).intersection(set(x[x['Gender'] == 'F']['Name']))))\n",
    "result_df = pd.DataFrame({'Year': gender_neutral_names_by_year.index,'Count': gender_neutral_names_by_year.values})\n",
    "year_with_most_gender_neutral_names = result_df.loc[result_df['Count'].idxmax()]\n",
    "print(year_with_most_gender_neutral_names)"
   ]
  },
  {
   "cell_type": "code",
   "execution_count": 11,
   "id": "890d5679-e3d9-4b26-a629-900c8067ef4a",
   "metadata": {},
   "outputs": [
    {
     "name": "stdout",
     "output_type": "stream",
     "text": [
      "1957\n"
     ]
    }
   ],
   "source": [
    "children_by_year = df.groupby('Year')['Count'].sum()\n",
    "year_with_most_children = children_by_year.idxmax()\n",
    "print(year_with_most_children)"
   ]
  },
  {
   "cell_type": "code",
   "execution_count": 12,
   "id": "88bd3797-ede5-4e71-ba6a-9c4845337bb6",
   "metadata": {},
   "outputs": [
    {
     "name": "stdout",
     "output_type": "stream",
     "text": [
      "Year  Gender\n",
      "1880  F           90993\n",
      "      M          110491\n",
      "1881  F           91954\n",
      "      M          100745\n",
      "1882  F          107850\n",
      "                 ...   \n",
      "2012  M         1889414\n",
      "2013  F         1745339\n",
      "      M         1881463\n",
      "2014  F         1768775\n",
      "      M         1901376\n",
      "Name: Count, Length: 270, dtype: int64\n"
     ]
    }
   ],
   "source": [
    "children_by_year_and_gender = df.groupby(['Year', 'Gender'])['Count'].sum()\n",
    "print(children_by_year_and_gender)"
   ]
  },
  {
   "cell_type": "code",
   "execution_count": 13,
   "id": "f195aefa-6840-4dab-971d-878ce2d6c52b",
   "metadata": {},
   "outputs": [
    {
     "name": "stdout",
     "output_type": "stream",
     "text": [
      "54\n"
     ]
    }
   ],
   "source": [
    "children_by_year_and_gender = df.groupby(['Year', 'Gender'])['Count'].sum()\n",
    "girls_by_year = children_by_year_and_gender[:, 'F']\n",
    "boys_by_year = children_by_year_and_gender[:, 'M']\n",
    "years_more_girls = (girls_by_year > boys_by_year).sum()\n",
    "print(years_more_girls)"
   ]
  },
  {
   "cell_type": "code",
   "execution_count": 14,
   "id": "89ddd6b8-3dad-4750-b18a-b28e743ca116",
   "metadata": {},
   "outputs": [
    {
     "data": {
      "image/png": "[encoded data removed]",
      "text/plain": [
       "<Figure size 1000x600 with 1 Axes>"
      ]
     },
     "metadata": {},
     "output_type": "display_data"
    }
   ],
   "source": [
    "children_by_year_and_gender = df.groupby(['Year', 'Gender'])['Count'].sum()\n",
    "girls_by_year = children_by_year_and_gender[:, 'F']\n",
    "boys_by_year = children_by_year_and_gender[:, 'M']\n",
    "data = pd.DataFrame({\n",
    "    'Дівчатка': girls_by_year.values,\n",
    "    'Хлопчики': boys_by_year.values\n",
    "}, index=girls_by_year.index)\n",
    "data.plot(kind='line', figsize=(10, 6))\n",
    "plt.title('Загальна кількість народжень хлопчиків та дівчаток на рік')\n",
    "plt.xlabel('Рік')\n",
    "plt.ylabel('Кількість народжень')\n",
    "plt.grid(True)\n",
    "plt.show()"
   ]
  },
  {
   "cell_type": "code",
   "execution_count": 15,
   "id": "e5c9b63e-27d7-4d3b-8d81-67a039ce8e53",
   "metadata": {},
   "outputs": [
    {
     "name": "stdout",
     "output_type": "stream",
     "text": [
      "10221\n"
     ]
    }
   ],
   "source": [
    "children_by_name_and_gender = df.groupby(['Name', 'Gender'])['Count'].sum()\n",
    "girls_by_name = children_by_name_and_gender[:, 'F']\n",
    "boys_by_name = children_by_name_and_gender[:, 'M']\n",
    "neutral_names = girls_by_name.index.intersection(boys_by_name.index)\n",
    "count_of_neutral_names = len(neutral_names)\n",
    "print(count_of_neutral_names)"
   ]
  },
  {
   "cell_type": "code",
   "execution_count": 16,
   "id": "f9139910-fcd7-45d7-b1f6-31e93a1e4005",
   "metadata": {},
   "outputs": [
    {
     "name": "stdout",
     "output_type": "stream",
     "text": [
      "Спостереження проводились 135 років\n"
     ]
    }
   ],
   "source": [
    "min_year = df['Year'].min()\n",
    "max_year = df['Year'].max()\n",
    "years_observed = max_year - min_year + 1\n",
    "print(\"Спостереження проводились \"+ str(years_observed) +\" років\")"
   ]
  },
  {
   "cell_type": "code",
   "execution_count": 17,
   "id": "525673f9-371a-40da-839e-ff323088695f",
   "metadata": {},
   "outputs": [
    {
     "name": "stdout",
     "output_type": "stream",
     "text": [
      "Gender-neutral names that occur in every year of observation:\n",
      "['Jessie' 'Ollie' 'Marion' 'Jean' 'Francis' 'John' 'William' 'Lee' 'James'\n",
      " 'Sidney' 'Robert' 'Joseph' 'Tommie' 'Johnnie' 'Leslie' 'Jesse']\n"
     ]
    }
   ],
   "source": [
    "grouped = df.groupby('Name')\n",
    "gender_neutral = grouped.filter(lambda x: x['Gender'].nunique() == 2)\n",
    "gender_neutral = gender_neutral.groupby('Name').filter(lambda x: len(x) == 270)\n",
    "gender_neutral_names = gender_neutral['Name'].unique()\n",
    "print(\"Gender-neutral names that occur in every year of observation:\")\n",
    "print(gender_neutral_names)"
   ]
  },
  {
   "cell_type": "code",
   "execution_count": 18,
   "id": "2a064088-4ec1-44df-9c33-61af96f91eec",
   "metadata": {},
   "outputs": [
    {
     "name": "stdout",
     "output_type": "stream",
     "text": [
      "Найбільш популярне серед непопулярних імен - це Celester. Їм називали 160 разів.\n"
     ]
    }
   ],
   "source": [
    "grouped = df.groupby('Year')\n",
    "def get_least_popular_names(group):\n",
    "    min_count = group['Count'].min()\n",
    "    return group[group['Count'] == min_count]\n",
    "least_popular_names = grouped.apply(get_least_popular_names)\n",
    "least_popular_names.reset_index(drop=True, inplace=True)\n",
    "\n",
    "name_counts = least_popular_names.groupby('Name')['Count'].sum()\n",
    "most_popular_name = name_counts.idxmax()\n",
    "most_popular_count = name_counts.max()\n",
    "print(\"Найбільш популярне серед непопулярних імен - це \" + most_popular_name + \". Їм називали \" + str(most_popular_count) + \" разів.\")"
   ]
  },
  {
   "cell_type": "code",
   "execution_count": 19,
   "id": "46a666d4-f75e-4b12-85cf-e35814ec4a6c",
   "metadata": {},
   "outputs": [
    {
     "name": "stdout",
     "output_type": "stream",
     "text": [
      "         Year      Name  Count\n",
      "942      1880      John   9655\n",
      "2938     1881      John   8769\n",
      "4963     1882      John   9557\n",
      "7116     1883      John   8894\n",
      "9318     1884      John   9388\n",
      "...       ...       ...    ...\n",
      "1657592  2010  Isabella  22883\n",
      "1691633  2011    Sophia  21816\n",
      "1725502  2012    Sophia  22267\n",
      "1759186  2013    Sophia  21147\n",
      "1792389  2014      Emma  20799\n",
      "\n",
      "[135 rows x 3 columns]\n"
     ]
    }
   ],
   "source": [
    "most_popular_names_by_year = df.loc[df.groupby('Year')['Count'].idxmax()]\n",
    "print(most_popular_names_by_year[['Year', 'Name', 'Count']])"
   ]
  }
 ],
 "metadata": {
  "kernelspec": {
   "display_name": "Python 3 (ipykernel)",
   "language": "python",
   "name": "python3"
  },
  "language_info": {
   "codemirror_mode": {
    "name": "ipython",
    "version": 3
   },
   "file_extension": ".py",
   "mimetype": "text/x-python",
   "name": "python",
   "nbconvert_exporter": "python",
   "pygments_lexer": "ipython3",
   "version": "3.11.7"
  }
 },
 "nbformat": 4,
 "nbformat_minor": 5
}
