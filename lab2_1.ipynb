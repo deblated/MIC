{
 "cells": [
  {
   "cell_type": "markdown",
   "id": "0c197fd1-75fb-43c5-a2b5-6956d29275e1",
   "metadata": {},
   "source": [
    "### Завдання 1)\n",
    "\\begin{equation}\n",
    "3, 4, 5, 6, 7,8, 9, 13, 19\n",
    "\\end{equation} \n",
    "\n",
    "### Завдання 2)\n",
    "\\begin{equation}\n",
    "\\begin{cases}\n",
    "    2x_1 + x_2 - 5x_3 + x_4 = 8 \\\\\n",
    "    x_1 - 3x_2 - 6x_4 = 9 \\\\\n",
    "    2x_1 - x_3 + 2x_4 = -5 \\\\\n",
    "    x_1 + 4x_2 - 7x_3 + 6x_4 = 0 \\\\\n",
    "\\end{cases}\n",
    "\\end{equation} \n",
    "\n",
    "### Завдання 3)\n",
    "\\begin{equation}\n",
    "2(A - 0,5B) + AB  \\\\\n",
    "де A = \\begin{bmatrix}\n",
    "    5 & 3 & -1 \\\\\n",
    "    2 & -2 & 0 \\\\\n",
    "    3 & -1 & 2\n",
    "\\end{bmatrix},\n",
    "B = \\begin{bmatrix}\n",
    "    1 & 4 & 16 \\\\\n",
    "    -3 & -2 & 0 \\\\\n",
    "    5 & 7 & 2\n",
    "\\end{bmatrix}\n",
    "\\end{equation}"
   ]
  },
  {
   "cell_type": "code",
   "execution_count": 1,
   "id": "1deb5c56-77e1-4490-ba36-36b5bd5bd23b",
   "metadata": {},
   "outputs": [],
   "source": [
    "import numpy as np"
   ]
  },
  {
   "cell_type": "code",
   "execution_count": 2,
   "id": "9f529696-206a-4b6b-bdd9-5655ae0742af",
   "metadata": {},
   "outputs": [],
   "source": [
    "def task3_1(n, m, r, c):\n",
    "    arr = np.ones((n, m))\n",
    "    arr[::r, ::1] = 0\n",
    "    arr[::1, ::c] = 0\n",
    "    return arr\n",
    "\n",
    "def task3_2(n, m, r, c):\n",
    "    arr = []\n",
    "    for i in range(n):\n",
    "        row = []\n",
    "        for j in range(m):\n",
    "            row.append(1)\n",
    "        arr.append(row)\n",
    "\n",
    "    for i in range(n):\n",
    "        for j in range(m):\n",
    "            if(i%r == 0 or j%c == 0):\n",
    "                arr[i][j] = 0\n",
    "    return arr\n",
    "\n",
    "def task4_1(n, m):\n",
    "    matrix = np.zeros((n, m))\n",
    "    matrix[0] = np.arange(m)\n",
    "    return matrix\n",
    "\n",
    "def task4_2(n, m):\n",
    "    matrix = []\n",
    "    for i in range(n):\n",
    "        if i == 0:\n",
    "            matrix.append(list(range(m)))\n",
    "        else:\n",
    "            matrix.append([0] * m)\n",
    "    return matrix\n",
    "\n",
    "def task5_1(n):\n",
    "    arr = np.zeros((n, n))\n",
    "    arr[::2] = 1\n",
    "    return arr\n",
    "\n",
    "def task5_2(n):\n",
    "    matrix = []\n",
    "    for i in range(n):\n",
    "        if i % 2 == 0:\n",
    "            matrix.append([1] * n)\n",
    "        else:\n",
    "            matrix.append([0] * n)\n",
    "    return matrix\n",
    "\n",
    "def task6_1(arr):\n",
    "    return np.where(arr != 0, -1, arr)\n",
    "\n",
    "def task6_2(arr):\n",
    "    for i in range(len(arr)):\n",
    "        if arr[i] != 0:\n",
    "            arr[i] = -1\n",
    "    return arr\n",
    "\n",
    "def task7_1(arr):\n",
    "    return np.where(arr == 0, -1, arr)\n",
    "\n",
    "def task7_2(arr):\n",
    "    for i in range(len(arr)):\n",
    "        if arr[i] == 0:\n",
    "            arr[i] = -1\n",
    "    return arr\n",
    "\n",
    "def task8_1(arr):\n",
    "    zero_count = np.count_nonzero(arr == 0)\n",
    "    non_zero_count = len(arr) - zero_count\n",
    "    return zero_count, non_zero_count\n",
    "\n",
    "def task8_2(arr):\n",
    "    zero_count = sum(1 for num in arr if num == 0)\n",
    "    non_zero_count = len(arr) - zero_count\n",
    "    return zero_count, non_zero_count\n",
    "\n",
    "def task9_1(n):\n",
    "    return np.arange(n, -1, -1)\n",
    "\n",
    "def task9_2(n):\n",
    "    return [i for i in range(n, -1, -1)]\n",
    "\n",
    "def task13_1_test():\n",
    "    row_even = np.array([0, 1] * 400)\n",
    "    row_odd = np.array([1, 0] * 400)\n",
    "    chessboard = np.row_stack([row_even, row_odd] * 400)\n",
    "    return chessboard\n",
    "\n",
    "def task13_2_test():\n",
    "    chessboard = [[(i + j) % 2 for j in range(800)] for i in range(800)]\n",
    "    return chessboard\n",
    "\n",
    "def task13_1():\n",
    "    row_even = np.array([0, 1] * 4)\n",
    "    row_odd = np.array([1, 0] * 4)\n",
    "    chessboard = np.row_stack([row_even, row_odd] * 4)\n",
    "    return chessboard\n",
    "\n",
    "def task13_2():\n",
    "    chessboard = [[(i + j) % 2 for j in range(8)] for i in range(8)]\n",
    "    return chessboard\n",
    "\n",
    "def task19_1(n):\n",
    "    return np.linspace(0, 1, n+1, endpoint=False)[1:]\n",
    "\n",
    "def task19_2(n):\n",
    "    interval = 1 / (n+1)\n",
    "    vector = [interval * i for i in range(1, n+1)]\n",
    "    return vector"
   ]
  },
  {
   "cell_type": "code",
   "execution_count": 3,
   "id": "442bdd90-7e5c-4277-a389-db1f7b743ef1",
   "metadata": {},
   "outputs": [
    {
     "name": "stdout",
     "output_type": "stream",
     "text": [
      "CPU times: total: 0 ns\n",
      "Wall time: 10 ms\n",
      "CPU times: total: 172 ms\n",
      "Wall time: 192 ms\n",
      "[[0. 0. 0. 0. 0. 0. 0.]\n",
      " [0. 1. 1. 0. 1. 1. 0.]\n",
      " [0. 0. 0. 0. 0. 0. 0.]\n",
      " [0. 1. 1. 0. 1. 1. 0.]\n",
      " [0. 0. 0. 0. 0. 0. 0.]\n",
      " [0. 1. 1. 0. 1. 1. 0.]]\n",
      "[0, 0, 0, 0, 0, 0, 0]\n",
      "[0, 1, 1, 0, 1, 1, 0]\n",
      "[0, 0, 0, 0, 0, 0, 0]\n",
      "[0, 1, 1, 0, 1, 1, 0]\n",
      "[0, 0, 0, 0, 0, 0, 0]\n",
      "[0, 1, 1, 0, 1, 1, 0]\n"
     ]
    }
   ],
   "source": [
    "%time res3_1 = task3_1(1000,1000,2,3)\n",
    "%time res3_2 = task3_2(1000,1000,2,3)\n",
    "print(task3_1(6,7,2,3))\n",
    "result_task3_2 = task3_2(6,7,2,3)\n",
    "for num in result_task3_2:\n",
    "    print(num)"
   ]
  },
  {
   "cell_type": "code",
   "execution_count": 4,
   "id": "ad32a75c-c695-483d-894f-9820a0c28f27",
   "metadata": {},
   "outputs": [
    {
     "name": "stdout",
     "output_type": "stream",
     "text": [
      "CPU times: total: 0 ns\n",
      "Wall time: 0 ns\n",
      "CPU times: total: 0 ns\n",
      "Wall time: 19 ms\n",
      "[[0. 1. 2. 3.]\n",
      " [0. 0. 0. 0.]\n",
      " [0. 0. 0. 0.]]\n",
      "[0, 1, 2, 3]\n",
      "[0, 0, 0, 0]\n",
      "[0, 0, 0, 0]\n"
     ]
    }
   ],
   "source": [
    "%time res4_1 = task4_1(1000,1000)\n",
    "%time res4_2 = task4_2(1000,1000)\n",
    "print(task4_1(3,4))\n",
    "result_task4_2 = task4_2(3,4)\n",
    "for num in result_task4_2:\n",
    "    print(num)"
   ]
  },
  {
   "cell_type": "code",
   "execution_count": 5,
   "id": "6426142d-7983-436b-be52-6c54c78d7149",
   "metadata": {},
   "outputs": [
    {
     "name": "stdout",
     "output_type": "stream",
     "text": [
      "CPU times: total: 0 ns\n",
      "Wall time: 5 ms\n",
      "CPU times: total: 0 ns\n",
      "Wall time: 32 ms\n",
      "[[1. 1. 1. 1. 1.]\n",
      " [0. 0. 0. 0. 0.]\n",
      " [1. 1. 1. 1. 1.]\n",
      " [0. 0. 0. 0. 0.]\n",
      " [1. 1. 1. 1. 1.]]\n",
      "[1, 1, 1, 1, 1]\n",
      "[0, 0, 0, 0, 0]\n",
      "[1, 1, 1, 1, 1]\n",
      "[0, 0, 0, 0, 0]\n",
      "[1, 1, 1, 1, 1]\n"
     ]
    }
   ],
   "source": [
    "%time res5_1 = task5_1(1000)\n",
    "%time res5_2 = task5_2(1000)\n",
    "print(task5_1(5))\n",
    "result_task5_2 = task5_2(5)\n",
    "for num in result_task5_2:\n",
    "    print(num)"
   ]
  },
  {
   "cell_type": "code",
   "execution_count": 6,
   "id": "c344283a-f5f1-4f18-815b-ea306cf89e63",
   "metadata": {},
   "outputs": [
    {
     "name": "stdout",
     "output_type": "stream",
     "text": [
      "CPU times: total: 0 ns\n",
      "Wall time: 0 ns\n",
      "CPU times: total: 0 ns\n",
      "Wall time: 33 ms\n",
      "[-1 -1  0 -1 -1  0 -1  0 -1  0 -1]\n",
      "[-1, -1, 0, -1, -1, 0, -1, 0, -1, 0, -1]\n"
     ]
    }
   ],
   "source": [
    "arr = np.random.randint(0, 11, size=100000)\n",
    "%time res6_1 = task6_1(arr)\n",
    "%time res6_2 = task6_2(arr)\n",
    "print(task6_1(np.array([3, 4, 0, 9, 7, 0, 6, 0, 4, 0, 3])))\n",
    "print(task6_2([3, 4, 0, 9, 7, 0, 6, 0, 4, 0, 3]))"
   ]
  },
  {
   "cell_type": "code",
   "execution_count": 7,
   "id": "2723ad9d-5766-44f2-9f26-2207c9abfe67",
   "metadata": {},
   "outputs": [
    {
     "name": "stdout",
     "output_type": "stream",
     "text": [
      "CPU times: total: 0 ns\n",
      "Wall time: 0 ns\n",
      "CPU times: total: 0 ns\n",
      "Wall time: 24 ms\n",
      "[ 3  4 -1  6  5 -1  3 -1  4]\n",
      "[3, 4, -1, 6, 5, -1, 3, -1, 4]\n"
     ]
    }
   ],
   "source": [
    "arr = np.random.randint(0, 11, size=100000)\n",
    "%time res7_1 = task7_1(arr)\n",
    "%time res7_2 = task7_2(arr)\n",
    "print(task7_1(np.array([3, 4, 0, 6, 5, 0, 3, 0, 4])))\n",
    "print(task7_2([3, 4, 0, 6, 5, 0, 3, 0, 4]))"
   ]
  },
  {
   "cell_type": "code",
   "execution_count": 8,
   "id": "2fbf9057-b8b5-4afd-b61a-82d459586c64",
   "metadata": {},
   "outputs": [
    {
     "name": "stdout",
     "output_type": "stream",
     "text": [
      "CPU times: total: 0 ns\n",
      "Wall time: 1 ms\n",
      "CPU times: total: 0 ns\n",
      "Wall time: 15 ms\n",
      "(3, 8)\n",
      "(3, 8)\n"
     ]
    }
   ],
   "source": [
    "arr = np.random.randint(0, 11, size=100000)\n",
    "%time res8_1 = task8_1(arr)\n",
    "%time res8_2 = task8_2(arr)\n",
    "print(task8_1(np.array([3, 4, 0, 9, 8, 2, 4, 0, 8, 4, 0])))\n",
    "print(task8_2([3, 4, 0, 9, 8, 2, 4, 0, 8, 4, 0]))"
   ]
  },
  {
   "cell_type": "code",
   "execution_count": 9,
   "id": "3070ceb8-ef53-4e54-a526-e411e45278d3",
   "metadata": {},
   "outputs": [
    {
     "name": "stdout",
     "output_type": "stream",
     "text": [
      "CPU times: total: 0 ns\n",
      "Wall time: 1e+03 µs\n",
      "CPU times: total: 0 ns\n",
      "Wall time: 4 ms\n",
      "[10  9  8  7  6  5  4  3  2  1  0]\n",
      "[10, 9, 8, 7, 6, 5, 4, 3, 2, 1, 0]\n"
     ]
    }
   ],
   "source": [
    "%time res9_1 = task9_1(100000)\n",
    "%time res9_2 = task9_2(100000)\n",
    "print(task9_1(10))\n",
    "print(task9_2(10))"
   ]
  },
  {
   "cell_type": "code",
   "execution_count": 10,
   "id": "a6571141-f63f-4891-95e6-b27810a3f283",
   "metadata": {},
   "outputs": [
    {
     "name": "stdout",
     "output_type": "stream",
     "text": [
      "CPU times: total: 0 ns\n",
      "Wall time: 4 ms\n",
      "CPU times: total: 15.6 ms\n",
      "Wall time: 90 ms\n",
      "(800, 800)\n",
      "(800, 800)\n",
      "[[0 1 0 1 0 1 0 1]\n",
      " [1 0 1 0 1 0 1 0]\n",
      " [0 1 0 1 0 1 0 1]\n",
      " [1 0 1 0 1 0 1 0]\n",
      " [0 1 0 1 0 1 0 1]\n",
      " [1 0 1 0 1 0 1 0]\n",
      " [0 1 0 1 0 1 0 1]\n",
      " [1 0 1 0 1 0 1 0]]\n",
      "[0, 1, 0, 1, 0, 1, 0, 1]\n",
      "[1, 0, 1, 0, 1, 0, 1, 0]\n",
      "[0, 1, 0, 1, 0, 1, 0, 1]\n",
      "[1, 0, 1, 0, 1, 0, 1, 0]\n",
      "[0, 1, 0, 1, 0, 1, 0, 1]\n",
      "[1, 0, 1, 0, 1, 0, 1, 0]\n",
      "[0, 1, 0, 1, 0, 1, 0, 1]\n",
      "[1, 0, 1, 0, 1, 0, 1, 0]\n"
     ]
    }
   ],
   "source": [
    "%time res13_1 = task13_1_test()\n",
    "%time res13_2 = task13_2_test()\n",
    "print(res13_1.shape)\n",
    "print(\"(\"+str(len(res13_2))+\", \"+str(len(res13_2[0]))+\")\")\n",
    "print(task13_1())\n",
    "result_task13_2 = task13_2()\n",
    "for num in result_task13_2:\n",
    "    print(num)"
   ]
  },
  {
   "cell_type": "code",
   "execution_count": 11,
   "id": "e97ba080-3ecc-4216-8ca7-9cdb62560b44",
   "metadata": {},
   "outputs": [
    {
     "name": "stdout",
     "output_type": "stream",
     "text": [
      "CPU times: total: 0 ns\n",
      "Wall time: 2 ms\n",
      "CPU times: total: 0 ns\n",
      "Wall time: 15 ms\n",
      "['0.091', '0.182', '0.273', '0.364', '0.455', '0.545', '0.636', '0.727', '0.818', '0.909']\n",
      "['0.091', '0.182', '0.273', '0.364', '0.455', '0.545', '0.636', '0.727', '0.818', '0.909']\n"
     ]
    }
   ],
   "source": [
    "%time res19_1 = task19_1(100000)\n",
    "%time res19_2 = task19_2(100000)\n",
    "print([f\"{num:.3f}\" for num in task19_1(10)])\n",
    "print([f\"{num:.3f}\" for num in task19_2(10)])"
   ]
  }
 ],
 "metadata": {
  "kernelspec": {
   "display_name": "Python 3 (ipykernel)",
   "language": "python",
   "name": "python3"
  },
  "language_info": {
   "codemirror_mode": {
    "name": "ipython",
    "version": 3
   },
   "file_extension": ".py",
   "mimetype": "text/x-python",
   "name": "python",
   "nbconvert_exporter": "python",
   "pygments_lexer": "ipython3",
   "version": "3.11.7"
  }
 },
 "nbformat": 4,
 "nbformat_minor": 5
}
