{
 "cells": [
  {
   "cell_type": "code",
   "execution_count": 1,
   "id": "c11fb017",
   "metadata": {},
   "outputs": [],
   "source": [
    "import pandas as pd"
   ]
  },
  {
   "cell_type": "code",
   "execution_count": 2,
   "id": "203a45b2",
   "metadata": {},
   "outputs": [],
   "source": [
    "file_path = 'Expanded_data_with_more_features.csv'\n",
    "\n",
    "df = pd.read_csv(file_path)"
   ]
  },
  {
   "cell_type": "code",
   "execution_count": 3,
   "id": "1a7b1c75",
   "metadata": {},
   "outputs": [
    {
     "data": {
      "text/plain": [
       "Index(['Unnamed: 0', 'Gender', 'EthnicGroup', 'ParentEduc', 'LunchType',\n",
       "       'TestPrep', 'ParentMaritalStatus', 'PracticeSport', 'IsFirstChild',\n",
       "       'NrSiblings', 'TransportMeans', 'WklyStudyHours', 'MathScore',\n",
       "       'ReadingScore', 'WritingScore'],\n",
       "      dtype='object')"
      ]
     },
     "execution_count": 3,
     "metadata": {},
     "output_type": "execute_result"
    }
   ],
   "source": [
    "df.columns"
   ]
  },
  {
   "cell_type": "code",
   "execution_count": 4,
   "id": "6811de0c",
   "metadata": {},
   "outputs": [
    {
     "data": {
      "text/plain": [
       "<bound method DataFrame.info of        Unnamed: 0  Gender EthnicGroup          ParentEduc     LunchType  \\\n",
       "0               0  female         NaN   bachelor's degree      standard   \n",
       "1               1  female     group C        some college      standard   \n",
       "2               2  female     group B     master's degree      standard   \n",
       "3               3    male     group A  associate's degree  free/reduced   \n",
       "4               4    male     group C        some college      standard   \n",
       "...           ...     ...         ...                 ...           ...   \n",
       "30636         816  female     group D         high school      standard   \n",
       "30637         890    male     group E         high school      standard   \n",
       "30638         911  female         NaN         high school  free/reduced   \n",
       "30639         934  female     group D  associate's degree      standard   \n",
       "30640         960    male     group B        some college      standard   \n",
       "\n",
       "        TestPrep ParentMaritalStatus PracticeSport IsFirstChild  NrSiblings  \\\n",
       "0           none             married     regularly          yes         3.0   \n",
       "1            NaN             married     sometimes          yes         0.0   \n",
       "2           none              single     sometimes          yes         4.0   \n",
       "3           none             married         never           no         1.0   \n",
       "4           none             married     sometimes          yes         0.0   \n",
       "...          ...                 ...           ...          ...         ...   \n",
       "30636       none              single     sometimes           no         2.0   \n",
       "30637       none              single     regularly           no         1.0   \n",
       "30638  completed             married     sometimes           no         1.0   \n",
       "30639  completed             married     regularly           no         3.0   \n",
       "30640       none             married         never           no         1.0   \n",
       "\n",
       "      TransportMeans WklyStudyHours  MathScore  ReadingScore  WritingScore  \n",
       "0         school_bus            < 5         71            71            74  \n",
       "1                NaN         5 - 10         69            90            88  \n",
       "2         school_bus            < 5         87            93            91  \n",
       "3                NaN         5 - 10         45            56            42  \n",
       "4         school_bus         5 - 10         76            78            75  \n",
       "...              ...            ...        ...           ...           ...  \n",
       "30636     school_bus         5 - 10         59            61            65  \n",
       "30637        private         5 - 10         58            53            51  \n",
       "30638        private         5 - 10         61            70            67  \n",
       "30639     school_bus         5 - 10         82            90            93  \n",
       "30640     school_bus         5 - 10         64            60            58  \n",
       "\n",
       "[30641 rows x 15 columns]>"
      ]
     },
     "execution_count": 4,
     "metadata": {},
     "output_type": "execute_result"
    }
   ],
   "source": [
    "df.info"
   ]
  },
  {
   "cell_type": "markdown",
   "id": "bf3236da",
   "metadata": {},
   "source": [
    "## Проаналізуйте розподіл за статтю серед учнів.\n",
    "1. Скільки студентів і студенток у наборі даних? \n",
    "2. Який відсоток студентів чоловічої статі в наборі даних? \n",
    "3. Який відсоток студенток у наборі даних?"
   ]
  },
  {
   "cell_type": "code",
   "execution_count": 5,
   "id": "39c1c0c0",
   "metadata": {},
   "outputs": [],
   "source": [
    "task1 = len(df)"
   ]
  },
  {
   "cell_type": "code",
   "execution_count": 6,
   "id": "6d9d25b2",
   "metadata": {},
   "outputs": [
    {
     "data": {
      "text/plain": [
       "30641"
      ]
     },
     "execution_count": 6,
     "metadata": {},
     "output_type": "execute_result"
    }
   ],
   "source": [
    "task1"
   ]
  },
  {
   "cell_type": "code",
   "execution_count": 7,
   "id": "aed1178c",
   "metadata": {},
   "outputs": [],
   "source": [
    "task2 = len(df[df['Gender'] == 'male'])/len(df)"
   ]
  },
  {
   "cell_type": "code",
   "execution_count": 8,
   "id": "c3186238",
   "metadata": {},
   "outputs": [
    {
     "data": {
      "text/plain": [
       "0.496622172905584"
      ]
     },
     "execution_count": 8,
     "metadata": {},
     "output_type": "execute_result"
    }
   ],
   "source": [
    "task2"
   ]
  },
  {
   "cell_type": "code",
   "execution_count": 9,
   "id": "d12c36db",
   "metadata": {},
   "outputs": [],
   "source": [
    "task3 = len(df[df['Gender'] == 'female'])/len(df)\n"
   ]
  },
  {
   "cell_type": "code",
   "execution_count": 10,
   "id": "6f61f7ef",
   "metadata": {},
   "outputs": [
    {
     "data": {
      "text/plain": [
       "0.503377827094416"
      ]
     },
     "execution_count": 10,
     "metadata": {},
     "output_type": "execute_result"
    }
   ],
   "source": [
    "task3"
   ]
  },
  {
   "cell_type": "markdown",
   "id": "acdabc16",
   "metadata": {},
   "source": [
    "## Дослідіть зв’язок між етнічною групою та результатами тестів.\n",
    "4. Яка етнічна група має найвищий середній бал з математики?\n",
    "5. Яка етнічна група має найвищий середній бал читання?\n",
    "6. Яка етнічна група має найвищий середній бал з письма?"
   ]
  },
  {
   "cell_type": "code",
   "execution_count": 11,
   "id": "ec946f38",
   "metadata": {},
   "outputs": [],
   "source": [
    "task4 = df.groupby('EthnicGroup')['MathScore'].mean()\n",
    "task5 = df.groupby('EthnicGroup')['ReadingScore'].mean()\n",
    "task6 = df.groupby('EthnicGroup')['WritingScore'].mean()"
   ]
  },
  {
   "cell_type": "code",
   "execution_count": 12,
   "id": "f6f50f02",
   "metadata": {},
   "outputs": [
    {
     "data": {
      "text/plain": [
       "EthnicGroup\n",
       "group A    62.991888\n",
       "group B    63.490216\n",
       "group C    64.695723\n",
       "group D    67.666400\n",
       "group E    75.298936\n",
       "Name: MathScore, dtype: float64"
      ]
     },
     "execution_count": 12,
     "metadata": {},
     "output_type": "execute_result"
    }
   ],
   "source": [
    "task4"
   ]
  },
  {
   "cell_type": "code",
   "execution_count": 13,
   "id": "ae95ffc6",
   "metadata": {},
   "outputs": [
    {
     "data": {
      "text/plain": [
       "EthnicGroup\n",
       "group A    66.787742\n",
       "group B    67.320460\n",
       "group C    68.438233\n",
       "group D    70.382247\n",
       "group E    74.251423\n",
       "Name: ReadingScore, dtype: float64"
      ]
     },
     "execution_count": 13,
     "metadata": {},
     "output_type": "execute_result"
    }
   ],
   "source": [
    "task5"
   ]
  },
  {
   "cell_type": "code",
   "execution_count": 14,
   "id": "800d5ef2",
   "metadata": {},
   "outputs": [
    {
     "data": {
      "text/plain": [
       "EthnicGroup\n",
       "group A    65.251915\n",
       "group B    65.895125\n",
       "group C    66.999240\n",
       "group D    70.890844\n",
       "group E    72.677060\n",
       "Name: WritingScore, dtype: float64"
      ]
     },
     "execution_count": 14,
     "metadata": {},
     "output_type": "execute_result"
    }
   ],
   "source": [
    "task6"
   ]
  },
  {
   "cell_type": "markdown",
   "id": "08f74f6a",
   "metadata": {},
   "source": [
    "## Дослідіть вплив курсу підготовки до тесту на результати тесту.\n",
    " 7. Який середній бал з математики для студентів, які закінчили курс підготовки до тесту?\n",
    " 8. Який середній бал з читання для студентів, які пройшли курс підготовки до тесту?\n",
    " 9. Який середній бал для студентів, які закінчили курс підготовки до тесту?"
   ]
  },
  {
   "cell_type": "code",
   "execution_count": 15,
   "id": "4a0d68ab",
   "metadata": {},
   "outputs": [],
   "source": [
    "task7 = df.groupby('TestPrep')['MathScore'].mean()\n",
    "task8 = df.groupby('TestPrep')['ReadingScore'].mean()\n",
    "task9 = df.groupby('TestPrep')['WritingScore'].mean()"
   ]
  },
  {
   "cell_type": "code",
   "execution_count": 16,
   "id": "505b291f",
   "metadata": {},
   "outputs": [
    {
     "data": {
      "text/plain": [
       "TestPrep\n",
       "completed    69.54666\n",
       "none         64.94877\n",
       "Name: MathScore, dtype: float64"
      ]
     },
     "execution_count": 16,
     "metadata": {},
     "output_type": "execute_result"
    }
   ],
   "source": [
    "task7"
   ]
  },
  {
   "cell_type": "code",
   "execution_count": 17,
   "id": "a203ba77",
   "metadata": {},
   "outputs": [
    {
     "data": {
      "text/plain": [
       "TestPrep\n",
       "completed    73.732998\n",
       "none         67.051071\n",
       "Name: ReadingScore, dtype: float64"
      ]
     },
     "execution_count": 17,
     "metadata": {},
     "output_type": "execute_result"
    }
   ],
   "source": [
    "task8"
   ]
  },
  {
   "cell_type": "code",
   "execution_count": 18,
   "id": "d80f76ae",
   "metadata": {},
   "outputs": [
    {
     "data": {
      "text/plain": [
       "TestPrep\n",
       "completed    74.703265\n",
       "none         65.092756\n",
       "Name: WritingScore, dtype: float64"
      ]
     },
     "execution_count": 18,
     "metadata": {},
     "output_type": "execute_result"
    }
   ],
   "source": [
    "task9"
   ]
  },
  {
   "cell_type": "markdown",
   "id": "13ddbe1d",
   "metadata": {},
   "source": [
    " ## Проаналізуйте розподіл батьків(ів) за сімейним станом серед учнів.\n",
    " 10. Скільки студентів мають одружених батьків?\n",
    " 11. Скільки студентів мають батьків-одинаків?"
   ]
  },
  {
   "cell_type": "code",
   "execution_count": 19,
   "id": "6101fa1d",
   "metadata": {},
   "outputs": [],
   "source": [
    "task10 = len(df[df['ParentMaritalStatus'] == 'married'])\n"
   ]
  },
  {
   "cell_type": "code",
   "execution_count": 20,
   "id": "c6c2d95c",
   "metadata": {},
   "outputs": [
    {
     "data": {
      "text/plain": [
       "16844"
      ]
     },
     "execution_count": 20,
     "metadata": {},
     "output_type": "execute_result"
    }
   ],
   "source": [
    "task10"
   ]
  },
  {
   "cell_type": "code",
   "execution_count": 21,
   "id": "51bb8779",
   "metadata": {},
   "outputs": [],
   "source": [
    "task11 = len(df[df['ParentMaritalStatus'].isin(['single', 'divorced', 'widowed'])])\n"
   ]
  },
  {
   "cell_type": "code",
   "execution_count": 22,
   "id": "1f85072b",
   "metadata": {},
   "outputs": [
    {
     "data": {
      "text/plain": [
       "12607"
      ]
     },
     "execution_count": 22,
     "metadata": {},
     "output_type": "execute_result"
    }
   ],
   "source": [
    "task11"
   ]
  },
  {
   "cell_type": "markdown",
   "id": "da5948d5",
   "metadata": {},
   "source": [
    "## Дослідіть зв’язок між заняттями спортом і результатами тестів.\n",
    "12. Чи студенти, які регулярно займаються спортом, мають вищі середні результати з математики, ніж ті, хто ніколи не       займається спортом?\n",
    "13. Чи студенти, які регулярно займаються спортом, мають вищі середні результати читання, ніж ті, хто ніколи не займається спортом?"
   ]
  },
  {
   "cell_type": "code",
   "execution_count": 23,
   "id": "7588c4fc",
   "metadata": {},
   "outputs": [],
   "source": [
    "task12 = df.groupby('PracticeSport')['MathScore'].mean()\n",
    "task13 = df.groupby('PracticeSport')['ReadingScore'].mean()"
   ]
  },
  {
   "cell_type": "code",
   "execution_count": 24,
   "id": "3889c44f",
   "metadata": {},
   "outputs": [
    {
     "data": {
      "text/plain": [
       "PracticeSport\n",
       "never        64.171079\n",
       "regularly    67.839155\n",
       "sometimes    66.274831\n",
       "Name: MathScore, dtype: float64"
      ]
     },
     "execution_count": 24,
     "metadata": {},
     "output_type": "execute_result"
    }
   ],
   "source": [
    "task12"
   ]
  },
  {
   "cell_type": "code",
   "execution_count": 25,
   "id": "3608e60e",
   "metadata": {},
   "outputs": [
    {
     "data": {
      "text/plain": [
       "PracticeSport\n",
       "never        68.337662\n",
       "regularly    69.943019\n",
       "sometimes    69.241307\n",
       "Name: ReadingScore, dtype: float64"
      ]
     },
     "execution_count": 25,
     "metadata": {},
     "output_type": "execute_result"
    }
   ],
   "source": [
    "task13"
   ]
  },
  {
   "cell_type": "markdown",
   "id": "a4cf1868",
   "metadata": {},
   "source": [
    "## Проаналізуйте розподіл транспортних засобів до школи серед учнів.\n",
    "14. Скільки учнів користується шкільним автобусом, щоб дістатися до школи?\n",
    "15. Скільки учнів користується приватним транспортом, щоб дістатися до школи?"
   ]
  },
  {
   "cell_type": "code",
   "execution_count": 26,
   "id": "32b5dd7e",
   "metadata": {},
   "outputs": [],
   "source": [
    "task14 = df['TransportMeans'].value_counts()['school_bus']\n",
    "task15 = df['TransportMeans'].value_counts()['private']"
   ]
  },
  {
   "cell_type": "code",
   "execution_count": 27,
   "id": "1268d608",
   "metadata": {},
   "outputs": [
    {
     "data": {
      "text/plain": [
       "16145"
      ]
     },
     "execution_count": 27,
     "metadata": {},
     "output_type": "execute_result"
    }
   ],
   "source": [
    "task14"
   ]
  },
  {
   "cell_type": "code",
   "execution_count": 28,
   "id": "00c5aad4",
   "metadata": {},
   "outputs": [
    {
     "data": {
      "text/plain": [
       "11362"
      ]
     },
     "execution_count": 28,
     "metadata": {},
     "output_type": "execute_result"
    }
   ],
   "source": [
    "task15"
   ]
  },
  {
   "cell_type": "markdown",
   "id": "62d424cf",
   "metadata": {},
   "source": [
    "# Task 2"
   ]
  },
  {
   "cell_type": "code",
   "execution_count": 29,
   "id": "dbf6b43e",
   "metadata": {},
   "outputs": [
    {
     "data": {
      "text/plain": [
       "none         18856\n",
       "completed     9955\n",
       "Name: TestPrep, dtype: int64"
      ]
     },
     "execution_count": 29,
     "metadata": {},
     "output_type": "execute_result"
    }
   ],
   "source": [
    "df[\"TestPrep\"].value_counts()"
   ]
  },
  {
   "cell_type": "code",
   "execution_count": 30,
   "id": "a44a7bd5",
   "metadata": {},
   "outputs": [],
   "source": [
    "from sklearn.preprocessing import OrdinalEncoder\n",
    "\n",
    "df = df.dropna(subset=[\"TestPrep\"])"
   ]
  },
  {
   "cell_type": "code",
   "execution_count": 31,
   "id": "70861367",
   "metadata": {},
   "outputs": [],
   "source": [
    "from sklearn.pipeline import Pipeline\n",
    "from sklearn.impute import SimpleImputer\n",
    "from sklearn.preprocessing import StandardScaler\n",
    "\n",
    "num_pipeline = Pipeline([\n",
    "        (\"imputer\", SimpleImputer(strategy=\"median\")),\n",
    "    ])"
   ]
  },
  {
   "cell_type": "code",
   "execution_count": 32,
   "id": "3c358525",
   "metadata": {},
   "outputs": [],
   "source": [
    "from sklearn.preprocessing import OneHotEncoder\n",
    "\n",
    "cat_pipeline = Pipeline([\n",
    "        (\"imputer\", SimpleImputer(strategy=\"most_frequent\")),\n",
    "        (\"cat_encoder\", OrdinalEncoder()),\n",
    "    ])"
   ]
  },
  {
   "cell_type": "code",
   "execution_count": 33,
   "id": "dd660715",
   "metadata": {},
   "outputs": [],
   "source": [
    "from sklearn.compose import ColumnTransformer\n",
    "\n",
    "num_attribs = [\"MathScore\",\"ReadingScore\",\"WritingScore\",\"NrSiblings\"]\n",
    "cat_attribs = [\"Gender\",\"EthnicGroup\",\"ParentEduc\",\"LunchType\",\"ParentMaritalStatus\",\"PracticeSport\",\"IsFirstChild\", \n",
    "               \"TransportMeans\",\"WklyStudyHours\"]\n",
    "\n",
    "preprocess_pipeline = ColumnTransformer([\n",
    "        (\"num\", num_pipeline, num_attribs),\n",
    "        (\"cat\", cat_pipeline, cat_attribs),\n",
    "    ])"
   ]
  },
  {
   "cell_type": "code",
   "execution_count": 34,
   "id": "6824337f",
   "metadata": {},
   "outputs": [
    {
     "data": {
      "text/plain": [
       "array([[71., 71., 74., ...,  1.,  1.,  1.],\n",
       "       [87., 93., 91., ...,  1.,  1.,  1.],\n",
       "       [45., 56., 42., ...,  0.,  1.,  0.],\n",
       "       ...,\n",
       "       [61., 70., 67., ...,  0.,  0.,  0.],\n",
       "       [82., 90., 93., ...,  0.,  1.,  0.],\n",
       "       [64., 60., 58., ...,  0.,  1.,  0.]])"
      ]
     },
     "execution_count": 34,
     "metadata": {},
     "output_type": "execute_result"
    }
   ],
   "source": [
    "df_prepared = preprocess_pipeline.fit_transform(df[num_attribs + cat_attribs])\n",
    "df_prepared"
   ]
  },
  {
   "cell_type": "code",
   "execution_count": 35,
   "id": "86cb1c1d",
   "metadata": {},
   "outputs": [],
   "source": [
    "y = df[\"TestPrep\"].copy().tolist()\n",
    "X = df_prepared"
   ]
  },
  {
   "cell_type": "code",
   "execution_count": 36,
   "id": "928d567d",
   "metadata": {},
   "outputs": [
    {
     "name": "stdout",
     "output_type": "stream",
     "text": [
      "Fitting 3 folds for each of 897 candidates, totalling 2691 fits\n"
     ]
    },
    {
     "data": {
      "text/plain": [
       "DecisionTreeClassifier(max_depth=7, max_leaf_nodes=24, random_state=42)"
      ]
     },
     "execution_count": 36,
     "metadata": {},
     "output_type": "execute_result"
    }
   ],
   "source": [
    "from sklearn.model_selection import GridSearchCV\n",
    "from sklearn.model_selection import train_test_split\n",
    "from sklearn.tree import DecisionTreeClassifier\n",
    "\n",
    "X_train, X_test, y_train, y_test = train_test_split(X, y, test_size=0.2, random_state=42)\n",
    "params = {'max_leaf_nodes': list(range(2, 25)), 'min_samples_split': [2, 3, 4], 'max_depth':list(range(2,15))}\n",
    "grid_search_cv = GridSearchCV(DecisionTreeClassifier(random_state=42), params, verbose=1, cv=3)\n",
    "\n",
    "grid_search_cv.fit(X_train, y_train)\n",
    "grid_search_cv.best_estimator_"
   ]
  },
  {
   "cell_type": "code",
   "execution_count": 37,
   "id": "eb5759a9",
   "metadata": {},
   "outputs": [
    {
     "data": {
      "text/plain": [
       "0.7039736248481694"
      ]
     },
     "execution_count": 37,
     "metadata": {},
     "output_type": "execute_result"
    }
   ],
   "source": [
    "from sklearn.metrics import accuracy_score\n",
    "\n",
    "y_pred = grid_search_cv.predict(X_test)\n",
    "accuracy_score(y_test, y_pred)"
   ]
  },
  {
   "cell_type": "code",
   "execution_count": null,
   "id": "1121573a",
   "metadata": {},
   "outputs": [],
   "source": []
  }
 ],
 "metadata": {
  "kernelspec": {
   "display_name": "Python 3",
   "language": "python",
   "name": "python3"
  },
  "language_info": {
   "codemirror_mode": {
    "name": "ipython",
    "version": 3
   },
   "file_extension": ".py",
   "mimetype": "text/x-python",
   "name": "python",
   "nbconvert_exporter": "python",
   "pygments_lexer": "ipython3",
   "version": "3.6.13"
  }
 },
 "nbformat": 4,
 "nbformat_minor": 5
}
