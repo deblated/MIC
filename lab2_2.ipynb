{
 "cells": [
  {
   "cell_type": "code",
   "execution_count": 1,
   "id": "69468b5c-8ec4-4ebe-87a1-285587aac6d0",
   "metadata": {},
   "outputs": [],
   "source": [
    "import numpy as np"
   ]
  },
  {
   "cell_type": "code",
   "execution_count": 2,
   "id": "222ed7b4-24b3-4d18-b9c9-aa1f1bd19640",
   "metadata": {},
   "outputs": [],
   "source": [
    "def solve_system(A, B):\n",
    "    det_A = np.linalg.det(A)\n",
    "    X = []\n",
    "    n = len(A)\n",
    "    for i in range(n):\n",
    "        A_i = A.copy()\n",
    "        A_i[:, i] = B\n",
    "        det_A_i = np.linalg.det(A_i)\n",
    "        X.append(det_A_i / det_A)\n",
    "    return X"
   ]
  },
  {
   "cell_type": "code",
   "execution_count": 3,
   "id": "27360f0e-6805-431b-9927-26b08b55a7d4",
   "metadata": {},
   "outputs": [],
   "source": [
    "A = np.array([[2, 1, -5, 1],\n",
    "     [1, -3, 0, -6],\n",
    "     [0, 2, -1, 2],\n",
    "     [1, 4, -7, 6]])\n",
    "B = np.array([8, 9, -5, 0])"
   ]
  },
  {
   "cell_type": "code",
   "execution_count": 4,
   "id": "05465704-ffbc-45a7-8f24-f1adde9f8b02",
   "metadata": {},
   "outputs": [
    {
     "name": "stdout",
     "output_type": "stream",
     "text": [
      "[2.9999999999999982, -4.000000000000001, -1.0000000000000004, 1.0000000000000004]\n"
     ]
    }
   ],
   "source": [
    "result = solve_system(A, B)\n",
    "print(solve_system(A, B))"
   ]
  },
  {
   "cell_type": "code",
   "execution_count": 5,
   "id": "1117d51f-a611-4ae6-ae91-9dc568792159",
   "metadata": {},
   "outputs": [
    {
     "name": "stdout",
     "output_type": "stream",
     "text": [
      "Розв'язки отримані різними методами співпадають.\n"
     ]
    }
   ],
   "source": [
    "X_mult = np.dot(A, result)\n",
    "\n",
    "A_inv = np.linalg.inv(A)\n",
    "X_inv = np.dot(A_inv, B)\n",
    "\n",
    "X_solve = np.linalg.solve(A, B)\n",
    "\n",
    "# Результати перевірки\n",
    "check_mult = np.allclose(X_mult, B)\n",
    "check_inv = np.allclose(X_inv, result)\n",
    "check_solve = np.allclose(X_solve, result)\n",
    "if ( check_mult and check_inv and check_solve):\n",
    "    print(\"Розв'язки отримані різними методами співпадають.\")\n",
    "else:\n",
    "    print(\"Розв'язки, отримані різними методами, не співпадають.\")"
   ]
  },
  {
   "cell_type": "code",
   "execution_count": null,
   "id": "0f874bd4-584f-48e2-a906-f717c341d49b",
   "metadata": {},
   "outputs": [],
   "source": []
  }
 ],
 "metadata": {
  "kernelspec": {
   "display_name": "Python 3 (ipykernel)",
   "language": "python",
   "name": "python3"
  },
  "language_info": {
   "codemirror_mode": {
    "name": "ipython",
    "version": 3
   },
   "file_extension": ".py",
   "mimetype": "text/x-python",
   "name": "python",
   "nbconvert_exporter": "python",
   "pygments_lexer": "ipython3",
   "version": "3.11.7"
  }
 },
 "nbformat": 4,
 "nbformat_minor": 5
}
